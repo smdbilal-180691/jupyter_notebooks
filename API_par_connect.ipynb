{
 "cells": [
  {
   "cell_type": "code",
   "execution_count": 99,
   "metadata": {},
   "outputs": [],
   "source": [
    "import findspark\n",
    "findspark.init()\n",
    "findspark.find()\n",
    "import pyspark\n",
    "findspark.find()\n",
    "from pyspark.sql import SparkSession\n",
    "import requests\n",
    "import json\n",
    "from pyspark.sql.functions import udf, col, explode\n",
    "from pyspark.sql.types import StructType, StructField, IntegerType, StringType, ArrayType, LongType, BooleanType, DoubleType\n",
    "from pyspark.sql import Row\n",
    "\n",
    "\n",
    "#UDF to call Rest API\n",
    "def restApiCall(action, url):\n",
    "  response = None\n",
    "  try:\n",
    "    if action == \"get\":\n",
    "      response = requests.get(url)\n",
    "    else:\n",
    "      print(\"Not a get request\")\n",
    "  except Exception as e:\n",
    "    return e\n",
    "\n",
    "  if response != None and response.status_code == 200:\n",
    "    return response.json()\n",
    "\n",
    "  return None\n",
    "\n",
    "\n",
    "schema1=StructType([\n",
    "    StructField(\"dataset\",StructType([\n",
    "        StructField(\"id\",LongType()),\n",
    "        StructField(\"dataset_code\",StringType()),\n",
    "        StructField(\"database_code\",StringType()),\n",
    "        StructField(\"name\",StringType()),\n",
    "        StructField(\"description\",StringType()),\n",
    "        StructField(\"refreshed_at\",StringType()),\n",
    "        StructField(\"newest_available_date\",StringType()),\n",
    "        StructField(\"oldest_available_date\",StringType()),\n",
    "        StructField(\"column_names\",ArrayType(StringType())),\n",
    "        StructField(\"frequency\",StringType()),\n",
    "        StructField(\"type\",StringType()),\n",
    "        StructField(\"premium\",BooleanType()),\n",
    "        StructField(\"limit\",StringType()),\n",
    "        StructField(\"transform\",StringType()),\n",
    "        StructField(\"column_index\",StringType()),\n",
    "        StructField(\"start_date\",StringType()),\n",
    "        StructField(\"end_date\",StringType()),\n",
    "        StructField(\"data\", ArrayType(\n",
    "            StructType([StructField('Dater',StringType(),True),\n",
    "                        StructField('Open',DoubleType(),True),\n",
    "                        StructField('High',DoubleType(),True),\n",
    "                        StructField('Low',DoubleType(),True),\n",
    "                        StructField('Close',DoubleType(),True),\n",
    "                        StructField('Volume',DoubleType(),True),\n",
    "                        StructField('Ex-dividend',DoubleType(),True),\n",
    "                        StructField('SplitRatio',DoubleType(),True),\n",
    "                        StructField('AdjOpen',DoubleType(),True),\n",
    "                        StructField('AdjHigh',DoubleType(),True),\n",
    "                        StructField('AdjLow',DoubleType(),True),\n",
    "                        StructField('AdjClose',DoubleType(),True),\n",
    "                        StructField('AdjVolume',DoubleType(),True)\n",
    "                       ])\n",
    "        )),\n",
    "        StructField(\"collapse\",StringType()),\n",
    "        StructField(\"order\",StringType()),\n",
    "        StructField(\"database_id\",LongType())\n",
    "    ]))\n",
    "])\n",
    "\n",
    "\n",
    "udf_restApiCall = udf(restApiCall, schema1)"
   ]
  },
  {
   "cell_type": "code",
   "execution_count": 105,
   "metadata": {},
   "outputs": [
    {
     "name": "stdout",
     "output_type": "stream",
     "text": [
      "[<Row('get', 'https://data.nasdaq.com/api/v3/datasets/WIKI/AAPL.json?start_date=1997-10-01&end_date=1997-10-05&order=asc')>, <Row('get', 'https://data.nasdaq.com/api/v3/datasets/WIKI/AAPL.json?start_date=1997-11-01&end_date=1997-11-05&order=asc')>]\n"
     ]
    }
   ],
   "source": [
    "url_list = [\"https://data.nasdaq.com/api/v3/datasets/WIKI/AAPL.json?start_date=1997-10-01&end_date=1997-10-05&order=asc\",\"https://data.nasdaq.com/api/v3/datasets/WIKI/AAPL.json?start_date=1997-11-01&end_date=1997-11-05&order=asc\"]\n",
    "urls = []\n",
    "for url in url_list:\n",
    "    urls.append(Row(\"get\",url))\n",
    "    \n",
    "print(urls)    "
   ]
  },
  {
   "cell_type": "code",
   "execution_count": 101,
   "metadata": {},
   "outputs": [
    {
     "name": "stdout",
     "output_type": "stream",
     "text": [
      "+------+--------------------+---+\n",
      "|action|                 url|pid|\n",
      "+------+--------------------+---+\n",
      "|   get|https://data.nasd...|  0|\n",
      "|   get|https://data.nasd...|  2|\n",
      "+------+--------------------+---+\n",
      "\n"
     ]
    }
   ],
   "source": [
    "from pyspark.sql.functions import spark_partition_id\n",
    "sch_url=StructType([StructField('action',StringType()),StructField('url',StringType())])\n",
    "api_df = spark.createDataFrame(urls,sch_url).repartition(3).withColumn('pid',spark_partition_id())\n",
    "api_df.show()\n",
    "\n",
    "\n"
   ]
  },
  {
   "cell_type": "code",
   "execution_count": 103,
   "metadata": {},
   "outputs": [
    {
     "name": "stdout",
     "output_type": "stream",
     "text": [
      "+---+--------------------+\n",
      "|pid|            exploded|\n",
      "+---+--------------------+\n",
      "|  0|[1997-10-01, 21.6...|\n",
      "|  0|[1997-10-02, 21.4...|\n",
      "|  0|[1997-10-03, 22.0...|\n",
      "|  2|[1997-11-03, 17.5...|\n",
      "|  2|[1997-11-04, 17.7...|\n",
      "|  2|[1997-11-05, 18.2...|\n",
      "+---+--------------------+\n",
      "\n"
     ]
    }
   ],
   "source": [
    "api_df_data = api_df.withColumn(\"data_col\",udf_restApiCall(col('action'),col('url')))\n",
    "api_explode = api_df_data.select('pid',explode('data_col.dataset.data').alias('exploded'))\n",
    "api_explode.show(40)"
   ]
  },
  {
   "cell_type": "code",
   "execution_count": 93,
   "metadata": {},
   "outputs": [
    {
     "name": "stdout",
     "output_type": "stream",
     "text": [
      "root\n",
      " |-- Dater: string (nullable = true)\n",
      " |-- Open: double (nullable = true)\n",
      " |-- High: double (nullable = true)\n",
      " |-- Low: double (nullable = true)\n",
      " |-- Close: double (nullable = true)\n",
      " |-- Volume: double (nullable = true)\n",
      " |-- Ex-dividend: double (nullable = true)\n",
      " |-- SplitRatio: double (nullable = true)\n",
      " |-- AdjOpen: double (nullable = true)\n",
      " |-- AdjHigh: double (nullable = true)\n",
      " |-- AdjLow: double (nullable = true)\n",
      " |-- AdjClose: double (nullable = true)\n",
      " |-- AdjVolume: double (nullable = true)\n",
      "\n",
      "+----------+-----+-----+-----+-----+---------+-----------+----------+----------------+----------------+----------------+----------------+---------+\n",
      "|     Dater| Open| High|  Low|Close|   Volume|Ex-dividend|SplitRatio|         AdjOpen|         AdjHigh|          AdjLow|        AdjClose|AdjVolume|\n",
      "+----------+-----+-----+-----+-----+---------+-----------+----------+----------------+----------------+----------------+----------------+---------+\n",
      "|1997-10-01|21.69|21.75|21.37|21.53|1164900.0|        0.0|       1.0|0.69686682691014| 0.6987945359749|0.68658571189809|0.69172626940412|3.26172E7|\n",
      "|1997-10-02|21.44| 22.0|21.37|21.94|1209000.0|        0.0|       1.0|0.68883470580698|0.70682665707806|0.68658571189809| 0.7048989480133| 3.3852E7|\n",
      "|1997-10-03| 22.0|22.25|21.69|22.12|1448500.0|        0.0|       1.0|0.70682665707806|0.71485877818122|0.69686682691014|0.71068207520757| 4.0558E7|\n",
      "|1997-11-03|17.56|17.75|17.06|17.37|1125100.0|        0.0|       1.0|0.56417618628594|0.57028059832434|0.54811194407962|0.55807177424754|3.15028E7|\n",
      "|1997-11-04|17.75|18.12| 17.5|17.94|1505300.0|        0.0|       1.0|0.57028059832434|0.58216813755702|0.56224847722118|0.57638501036274|4.21484E7|\n",
      "|1997-11-05|18.25|18.62|18.06|18.37|3456400.0|        0.0|       1.0|0.58634484053066|0.59823237976334|0.58024042849226|0.59020025866018|9.67792E7|\n",
      "+----------+-----+-----+-----+-----+---------+-----------+----------+----------------+----------------+----------------+----------------+---------+\n",
      "\n"
     ]
    }
   ],
   "source": [
    "api_formatted = api_explode.select('exploded.*')\n",
    "api_formatted.printSchema()\n",
    "api_formatted.show()"
   ]
  },
  {
   "cell_type": "code",
   "execution_count": null,
   "metadata": {},
   "outputs": [],
   "source": []
  }
 ],
 "metadata": {
  "kernelspec": {
   "display_name": "Python 3",
   "language": "python",
   "name": "python3"
  },
  "language_info": {
   "codemirror_mode": {
    "name": "ipython",
    "version": 3
   },
   "file_extension": ".py",
   "mimetype": "text/x-python",
   "name": "python",
   "nbconvert_exporter": "python",
   "pygments_lexer": "ipython3",
   "version": "3.7.4"
  }
 },
 "nbformat": 4,
 "nbformat_minor": 2
}
